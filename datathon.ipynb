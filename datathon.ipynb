{
 "cells": [
  {
   "cell_type": "markdown",
   "id": "42a073db",
   "metadata": {},
   "source": [
    "<img src=\"data\\imgs\\logo.png\" align=\"right\" style=\"float\" width=\"200\">\n",
    "<font color=\"#1874CD\"><h1 align=\"left\"><b>Datathon PDS06</b></h1></font>\n",
    "<font color=\"#6E6E6E\"><h2 align=\"left\"><b>Christian Esteve Orts</b></h2></font>\n",
    "<font color=\"#6E6E6E\"><h3 align=\"left\">Notebook: regresión lineal</h3></font>\n",
    "\n",
    "***"
   ]
  },
  {
   "cell_type": "markdown",
   "id": "8197c60c",
   "metadata": {},
   "source": [
    "El ejercicio consta de un problema de regresión, siendo la última columna el target y el resto las potenciales variables predictoras."
   ]
  },
  {
   "cell_type": "markdown",
   "id": "2ce2bb06",
   "metadata": {},
   "source": [
    "## Librerías"
   ]
  },
  {
   "cell_type": "code",
   "execution_count": 10,
   "id": "ff6e8e15",
   "metadata": {},
   "outputs": [],
   "source": [
    "# Gestión de la estrucutra de los datos\n",
    "import pandas as pd\n",
    "import numpy as np\n",
    "import openpyxl\n",
    "\n",
    "# Gestión de ruta al dataset, por si se necesita cambiar en un futuro a una base de datos o servicio en la nube\n",
    "from pathlib import Path\n",
    "\n",
    "# Visualización de datos\n",
    "import matplotlib.pyplot as plt\n",
    "import seaborn as sns\n"
   ]
  },
  {
   "cell_type": "markdown",
   "id": "1eee5d2f",
   "metadata": {},
   "source": [
    "## Importación del dataset"
   ]
  },
  {
   "cell_type": "code",
   "execution_count": 23,
   "id": "bdcb2964",
   "metadata": {},
   "outputs": [
    {
     "name": "stdout",
     "output_type": "stream",
     "text": [
      "Número de observaciones y columnas: (772, 11)\n"
     ]
    },
    {
     "data": {
      "application/vnd.microsoft.datawrangler.viewer.v0+json": {
       "columns": [
        {
         "name": "index",
         "rawType": "int64",
         "type": "integer"
        },
        {
         "name": "x1",
         "rawType": "float64",
         "type": "float"
        },
        {
         "name": "x2",
         "rawType": "float64",
         "type": "float"
        },
        {
         "name": "x3",
         "rawType": "float64",
         "type": "float"
        },
        {
         "name": "x4",
         "rawType": "float64",
         "type": "float"
        },
        {
         "name": "x5",
         "rawType": "float64",
         "type": "float"
        },
        {
         "name": "x6",
         "rawType": "float64",
         "type": "float"
        },
        {
         "name": "x7",
         "rawType": "float64",
         "type": "float"
        },
        {
         "name": "x8",
         "rawType": "float64",
         "type": "float"
        },
        {
         "name": "x9",
         "rawType": "float64",
         "type": "float"
        },
        {
         "name": "x10",
         "rawType": "float64",
         "type": "float"
        },
        {
         "name": "deseada",
         "rawType": "float64",
         "type": "float"
        }
       ],
       "ref": "1e389697-1998-490a-98b3-7b3088dedac8",
       "rows": [
        [
         "0",
         "27585.8881",
         "0.0",
         "2.215558257141162",
         "176.46",
         "4.49",
         "1058.6",
         "780.09",
         "28.0",
         "-1.867265192591748",
         "0.9000231233980112",
         "21.53923024"
        ],
        [
         "1",
         "45693.3376",
         "98.06",
         "1.406880670049125",
         null,
         "6.65",
         "1066.0",
         "785.52",
         null,
         "0.6339190223180112",
         "0.8627970775432285",
         "17.83674412"
        ],
        [
         "2",
         "110889.0",
         "0.0",
         "0.0",
         "192.0",
         null,
         "931.2",
         "842.6",
         "7.0",
         "-0.2030453860429927",
         "0.4615574744197899",
         "23.404952296"
        ],
        [
         "3",
         "241081.0",
         "26.0",
         "2.093421685162235",
         "210.0",
         "3.93",
         "882.0",
         "699.0",
         "28.0",
         "-1.382799730964336",
         "0.3382675059944984",
         "55.55108132"
        ],
        [
         "4",
         "34670.44",
         "124.1",
         "0.0",
         "185.7",
         "0.0",
         "1083.4",
         null,
         "28.0",
         "-0.510016398854747",
         "0.6034876665964548",
         "17.596806472"
        ],
        [
         "5",
         null,
         null,
         null,
         "221.4",
         "10.5",
         "819.2",
         "778.4",
         "28.0",
         "-1.280304398670894",
         "0.6341040313763313",
         "31.420110796"
        ],
        [
         "6",
         "62500.0",
         "0.0",
         "1.985381560231997",
         "187.42",
         null,
         "956.86",
         "861.17",
         "3.0",
         "0.4049817109609555",
         "0.4043187681042921",
         "13.81709904"
        ],
        [
         "7",
         "133956.0",
         "187.0",
         "0.0",
         "191.3",
         "6.6",
         "824.3",
         "756.9",
         null,
         null,
         "0.07100766453325547",
         "65.909079268"
        ],
        [
         "8",
         "99225.0",
         "137.0",
         "0.0",
         "145.0",
         "5.9",
         "1130.0",
         null,
         "28.0",
         "-0.5993926454440222",
         "0.2391801042159256",
         "81.75116932"
        ],
        [
         "9",
         "98156.89000000001",
         "262.2",
         "0.0",
         "175.5",
         "8.6",
         "1046.9",
         "611.8",
         "3.0",
         "1.538036566465969",
         null,
         "28.79941252"
        ]
       ],
       "shape": {
        "columns": 11,
        "rows": 10
       }
      },
      "text/html": [
       "<div>\n",
       "<style scoped>\n",
       "    .dataframe tbody tr th:only-of-type {\n",
       "        vertical-align: middle;\n",
       "    }\n",
       "\n",
       "    .dataframe tbody tr th {\n",
       "        vertical-align: top;\n",
       "    }\n",
       "\n",
       "    .dataframe thead th {\n",
       "        text-align: right;\n",
       "    }\n",
       "</style>\n",
       "<table border=\"1\" class=\"dataframe\">\n",
       "  <thead>\n",
       "    <tr style=\"text-align: right;\">\n",
       "      <th></th>\n",
       "      <th>x1</th>\n",
       "      <th>x2</th>\n",
       "      <th>x3</th>\n",
       "      <th>x4</th>\n",
       "      <th>x5</th>\n",
       "      <th>x6</th>\n",
       "      <th>x7</th>\n",
       "      <th>x8</th>\n",
       "      <th>x9</th>\n",
       "      <th>x10</th>\n",
       "      <th>deseada</th>\n",
       "    </tr>\n",
       "  </thead>\n",
       "  <tbody>\n",
       "    <tr>\n",
       "      <th>0</th>\n",
       "      <td>27585.8881</td>\n",
       "      <td>0.00</td>\n",
       "      <td>2.215558</td>\n",
       "      <td>176.46</td>\n",
       "      <td>4.49</td>\n",
       "      <td>1058.60</td>\n",
       "      <td>780.09</td>\n",
       "      <td>28.0</td>\n",
       "      <td>-1.867265</td>\n",
       "      <td>0.900023</td>\n",
       "      <td>21.539230</td>\n",
       "    </tr>\n",
       "    <tr>\n",
       "      <th>1</th>\n",
       "      <td>45693.3376</td>\n",
       "      <td>98.06</td>\n",
       "      <td>1.406881</td>\n",
       "      <td>NaN</td>\n",
       "      <td>6.65</td>\n",
       "      <td>1066.00</td>\n",
       "      <td>785.52</td>\n",
       "      <td>NaN</td>\n",
       "      <td>0.633919</td>\n",
       "      <td>0.862797</td>\n",
       "      <td>17.836744</td>\n",
       "    </tr>\n",
       "    <tr>\n",
       "      <th>2</th>\n",
       "      <td>110889.0000</td>\n",
       "      <td>0.00</td>\n",
       "      <td>0.000000</td>\n",
       "      <td>192.00</td>\n",
       "      <td>NaN</td>\n",
       "      <td>931.20</td>\n",
       "      <td>842.60</td>\n",
       "      <td>7.0</td>\n",
       "      <td>-0.203045</td>\n",
       "      <td>0.461557</td>\n",
       "      <td>23.404952</td>\n",
       "    </tr>\n",
       "    <tr>\n",
       "      <th>3</th>\n",
       "      <td>241081.0000</td>\n",
       "      <td>26.00</td>\n",
       "      <td>2.093422</td>\n",
       "      <td>210.00</td>\n",
       "      <td>3.93</td>\n",
       "      <td>882.00</td>\n",
       "      <td>699.00</td>\n",
       "      <td>28.0</td>\n",
       "      <td>-1.382800</td>\n",
       "      <td>0.338268</td>\n",
       "      <td>55.551081</td>\n",
       "    </tr>\n",
       "    <tr>\n",
       "      <th>4</th>\n",
       "      <td>34670.4400</td>\n",
       "      <td>124.10</td>\n",
       "      <td>0.000000</td>\n",
       "      <td>185.70</td>\n",
       "      <td>0.00</td>\n",
       "      <td>1083.40</td>\n",
       "      <td>NaN</td>\n",
       "      <td>28.0</td>\n",
       "      <td>-0.510016</td>\n",
       "      <td>0.603488</td>\n",
       "      <td>17.596806</td>\n",
       "    </tr>\n",
       "    <tr>\n",
       "      <th>5</th>\n",
       "      <td>NaN</td>\n",
       "      <td>NaN</td>\n",
       "      <td>NaN</td>\n",
       "      <td>221.40</td>\n",
       "      <td>10.50</td>\n",
       "      <td>819.20</td>\n",
       "      <td>778.40</td>\n",
       "      <td>28.0</td>\n",
       "      <td>-1.280304</td>\n",
       "      <td>0.634104</td>\n",
       "      <td>31.420111</td>\n",
       "    </tr>\n",
       "    <tr>\n",
       "      <th>6</th>\n",
       "      <td>62500.0000</td>\n",
       "      <td>0.00</td>\n",
       "      <td>1.985382</td>\n",
       "      <td>187.42</td>\n",
       "      <td>NaN</td>\n",
       "      <td>956.86</td>\n",
       "      <td>861.17</td>\n",
       "      <td>3.0</td>\n",
       "      <td>0.404982</td>\n",
       "      <td>0.404319</td>\n",
       "      <td>13.817099</td>\n",
       "    </tr>\n",
       "    <tr>\n",
       "      <th>7</th>\n",
       "      <td>133956.0000</td>\n",
       "      <td>187.00</td>\n",
       "      <td>0.000000</td>\n",
       "      <td>191.30</td>\n",
       "      <td>6.60</td>\n",
       "      <td>824.30</td>\n",
       "      <td>756.90</td>\n",
       "      <td>NaN</td>\n",
       "      <td>NaN</td>\n",
       "      <td>0.071008</td>\n",
       "      <td>65.909079</td>\n",
       "    </tr>\n",
       "    <tr>\n",
       "      <th>8</th>\n",
       "      <td>99225.0000</td>\n",
       "      <td>137.00</td>\n",
       "      <td>0.000000</td>\n",
       "      <td>145.00</td>\n",
       "      <td>5.90</td>\n",
       "      <td>1130.00</td>\n",
       "      <td>NaN</td>\n",
       "      <td>28.0</td>\n",
       "      <td>-0.599393</td>\n",
       "      <td>0.239180</td>\n",
       "      <td>81.751169</td>\n",
       "    </tr>\n",
       "    <tr>\n",
       "      <th>9</th>\n",
       "      <td>98156.8900</td>\n",
       "      <td>262.20</td>\n",
       "      <td>0.000000</td>\n",
       "      <td>175.50</td>\n",
       "      <td>8.60</td>\n",
       "      <td>1046.90</td>\n",
       "      <td>611.80</td>\n",
       "      <td>3.0</td>\n",
       "      <td>1.538037</td>\n",
       "      <td>NaN</td>\n",
       "      <td>28.799413</td>\n",
       "    </tr>\n",
       "  </tbody>\n",
       "</table>\n",
       "</div>"
      ],
      "text/plain": [
       "            x1      x2        x3      x4     x5       x6      x7    x8  \\\n",
       "0   27585.8881    0.00  2.215558  176.46   4.49  1058.60  780.09  28.0   \n",
       "1   45693.3376   98.06  1.406881     NaN   6.65  1066.00  785.52   NaN   \n",
       "2  110889.0000    0.00  0.000000  192.00    NaN   931.20  842.60   7.0   \n",
       "3  241081.0000   26.00  2.093422  210.00   3.93   882.00  699.00  28.0   \n",
       "4   34670.4400  124.10  0.000000  185.70   0.00  1083.40     NaN  28.0   \n",
       "5          NaN     NaN       NaN  221.40  10.50   819.20  778.40  28.0   \n",
       "6   62500.0000    0.00  1.985382  187.42    NaN   956.86  861.17   3.0   \n",
       "7  133956.0000  187.00  0.000000  191.30   6.60   824.30  756.90   NaN   \n",
       "8   99225.0000  137.00  0.000000  145.00   5.90  1130.00     NaN  28.0   \n",
       "9   98156.8900  262.20  0.000000  175.50   8.60  1046.90  611.80   3.0   \n",
       "\n",
       "         x9       x10    deseada  \n",
       "0 -1.867265  0.900023  21.539230  \n",
       "1  0.633919  0.862797  17.836744  \n",
       "2 -0.203045  0.461557  23.404952  \n",
       "3 -1.382800  0.338268  55.551081  \n",
       "4 -0.510016  0.603488  17.596806  \n",
       "5 -1.280304  0.634104  31.420111  \n",
       "6  0.404982  0.404319  13.817099  \n",
       "7       NaN  0.071008  65.909079  \n",
       "8 -0.599393  0.239180  81.751169  \n",
       "9  1.538037       NaN  28.799413  "
      ]
     },
     "execution_count": 23,
     "metadata": {},
     "output_type": "execute_result"
    }
   ],
   "source": [
    "\n",
    "DATA_PATH = Path(\"data/train.xlsx\")  # cámbialo aquí si hace falta\n",
    "df = pd.read_excel(DATA_PATH)\n",
    "print(f\"Número de observaciones y columnas: {df.shape}\")\n",
    "df.head(10)"
   ]
  },
  {
   "cell_type": "markdown",
   "id": "026061c7",
   "metadata": {},
   "source": [
    "Comprobación rápida de datos faltantes"
   ]
  },
  {
   "cell_type": "code",
   "execution_count": 15,
   "id": "1ee190c4",
   "metadata": {},
   "outputs": [
    {
     "data": {
      "text/plain": [
       "np.int64(774)"
      ]
     },
     "execution_count": 15,
     "metadata": {},
     "output_type": "execute_result"
    }
   ],
   "source": [
    "## NAs\n",
    "df.isna().sum().sum()"
   ]
  },
  {
   "cell_type": "markdown",
   "id": "ae03228e",
   "metadata": {},
   "source": [
    "Se puede observar de forma rápida que el dataset tiene datos faltantes"
   ]
  },
  {
   "cell_type": "code",
   "execution_count": null,
   "id": "375f1708",
   "metadata": {},
   "outputs": [
    {
     "name": "stdout",
     "output_type": "stream",
     "text": [
      "Recordar el numero de observaciones: 772\n"
     ]
    },
    {
     "data": {
      "application/vnd.microsoft.datawrangler.viewer.v0+json": {
       "columns": [
        {
         "name": "index",
         "rawType": "object",
         "type": "string"
        },
        {
         "name": "count",
         "rawType": "float64",
         "type": "float"
        },
        {
         "name": "mean",
         "rawType": "float64",
         "type": "float"
        },
        {
         "name": "std",
         "rawType": "float64",
         "type": "float"
        },
        {
         "name": "min",
         "rawType": "float64",
         "type": "float"
        },
        {
         "name": "25%",
         "rawType": "float64",
         "type": "float"
        },
        {
         "name": "50%",
         "rawType": "float64",
         "type": "float"
        },
        {
         "name": "75%",
         "rawType": "float64",
         "type": "float"
        },
        {
         "name": "max",
         "rawType": "float64",
         "type": "float"
        }
       ],
       "ref": "d74298f0-4740-4ef2-ab5c-7f36c741b611",
       "rows": [
        [
         "x1",
         "706.0",
         "92761.09773314447",
         "68338.51981752345",
         "10404.0",
         "37900.3024",
         "76729.0",
         "131478.76",
         "291600.0"
        ],
        [
         "x2",
         "685.0",
         "72.03789781021898",
         "86.13530917066016",
         "0.0",
         "0.0",
         "20.0",
         "141.3",
         "359.4"
        ],
        [
         "x3",
         "703.0",
         "0.8826585649852294",
         "1.0261478661054644",
         "0.0",
         "0.0",
         "0.0",
         "2.073864922902999",
         "2.292256071356476"
        ],
        [
         "x4",
         "690.0",
         "181.94459420289854",
         "21.474526379336105",
         "121.75",
         "164.925",
         "185.7",
         "192.0",
         "247.0"
        ],
        [
         "x5",
         "698.0",
         "6.168636103151863",
         "6.033556157891522",
         "0.0",
         "0.0",
         "6.0",
         "10.1",
         "32.2"
        ],
        [
         "x6",
         "704.0",
         "971.7879971590909",
         "79.48208660896803",
         "801.0",
         "932.0",
         "967.04",
         "1034.25",
         "1145.0"
        ],
        [
         "x7",
         "699.0",
         "772.9171673819744",
         "81.45998826213263",
         "594.0",
         "725.95",
         "779.7",
         "824.0",
         "992.6"
        ],
        [
         "x8",
         "687.0",
         "45.914119359534205",
         "62.163401870646574",
         "1.0",
         "14.0",
         "28.0",
         "56.0",
         "365.0"
        ],
        [
         "x9",
         "694.0",
         "0.01811646081921897",
         "0.9799865136680852",
         "-3.241267340069073",
         "-0.6517771677530737",
         "0.046708570960445436",
         "0.6549655009650375",
         "2.720169166589619"
        ],
        [
         "x10",
         "680.0",
         "0.49617750224623897",
         "0.28754500693384627",
         "0.005229613542912737",
         "0.2489674184879238",
         "0.49749363602135876",
         "0.7318901917626904",
         "0.9983475113929496"
        ],
        [
         "deseada",
         "772.0",
         "35.895710412053674",
         "16.786939891692928",
         "2.331807832",
         "23.742795536",
         "34.22214126",
         "45.865322472",
         "82.5992248"
        ]
       ],
       "shape": {
        "columns": 8,
        "rows": 11
       }
      },
      "text/html": [
       "<div>\n",
       "<style scoped>\n",
       "    .dataframe tbody tr th:only-of-type {\n",
       "        vertical-align: middle;\n",
       "    }\n",
       "\n",
       "    .dataframe tbody tr th {\n",
       "        vertical-align: top;\n",
       "    }\n",
       "\n",
       "    .dataframe thead th {\n",
       "        text-align: right;\n",
       "    }\n",
       "</style>\n",
       "<table border=\"1\" class=\"dataframe\">\n",
       "  <thead>\n",
       "    <tr style=\"text-align: right;\">\n",
       "      <th></th>\n",
       "      <th>count</th>\n",
       "      <th>mean</th>\n",
       "      <th>std</th>\n",
       "      <th>min</th>\n",
       "      <th>25%</th>\n",
       "      <th>50%</th>\n",
       "      <th>75%</th>\n",
       "      <th>max</th>\n",
       "    </tr>\n",
       "  </thead>\n",
       "  <tbody>\n",
       "    <tr>\n",
       "      <th>x1</th>\n",
       "      <td>706.0</td>\n",
       "      <td>92761.097733</td>\n",
       "      <td>68338.519818</td>\n",
       "      <td>10404.000000</td>\n",
       "      <td>37900.302400</td>\n",
       "      <td>76729.000000</td>\n",
       "      <td>131478.760000</td>\n",
       "      <td>291600.000000</td>\n",
       "    </tr>\n",
       "    <tr>\n",
       "      <th>x2</th>\n",
       "      <td>685.0</td>\n",
       "      <td>72.037898</td>\n",
       "      <td>86.135309</td>\n",
       "      <td>0.000000</td>\n",
       "      <td>0.000000</td>\n",
       "      <td>20.000000</td>\n",
       "      <td>141.300000</td>\n",
       "      <td>359.400000</td>\n",
       "    </tr>\n",
       "    <tr>\n",
       "      <th>x3</th>\n",
       "      <td>703.0</td>\n",
       "      <td>0.882659</td>\n",
       "      <td>1.026148</td>\n",
       "      <td>0.000000</td>\n",
       "      <td>0.000000</td>\n",
       "      <td>0.000000</td>\n",
       "      <td>2.073865</td>\n",
       "      <td>2.292256</td>\n",
       "    </tr>\n",
       "    <tr>\n",
       "      <th>x4</th>\n",
       "      <td>690.0</td>\n",
       "      <td>181.944594</td>\n",
       "      <td>21.474526</td>\n",
       "      <td>121.750000</td>\n",
       "      <td>164.925000</td>\n",
       "      <td>185.700000</td>\n",
       "      <td>192.000000</td>\n",
       "      <td>247.000000</td>\n",
       "    </tr>\n",
       "    <tr>\n",
       "      <th>x5</th>\n",
       "      <td>698.0</td>\n",
       "      <td>6.168636</td>\n",
       "      <td>6.033556</td>\n",
       "      <td>0.000000</td>\n",
       "      <td>0.000000</td>\n",
       "      <td>6.000000</td>\n",
       "      <td>10.100000</td>\n",
       "      <td>32.200000</td>\n",
       "    </tr>\n",
       "    <tr>\n",
       "      <th>x6</th>\n",
       "      <td>704.0</td>\n",
       "      <td>971.787997</td>\n",
       "      <td>79.482087</td>\n",
       "      <td>801.000000</td>\n",
       "      <td>932.000000</td>\n",
       "      <td>967.040000</td>\n",
       "      <td>1034.250000</td>\n",
       "      <td>1145.000000</td>\n",
       "    </tr>\n",
       "    <tr>\n",
       "      <th>x7</th>\n",
       "      <td>699.0</td>\n",
       "      <td>772.917167</td>\n",
       "      <td>81.459988</td>\n",
       "      <td>594.000000</td>\n",
       "      <td>725.950000</td>\n",
       "      <td>779.700000</td>\n",
       "      <td>824.000000</td>\n",
       "      <td>992.600000</td>\n",
       "    </tr>\n",
       "    <tr>\n",
       "      <th>x8</th>\n",
       "      <td>687.0</td>\n",
       "      <td>45.914119</td>\n",
       "      <td>62.163402</td>\n",
       "      <td>1.000000</td>\n",
       "      <td>14.000000</td>\n",
       "      <td>28.000000</td>\n",
       "      <td>56.000000</td>\n",
       "      <td>365.000000</td>\n",
       "    </tr>\n",
       "    <tr>\n",
       "      <th>x9</th>\n",
       "      <td>694.0</td>\n",
       "      <td>0.018116</td>\n",
       "      <td>0.979987</td>\n",
       "      <td>-3.241267</td>\n",
       "      <td>-0.651777</td>\n",
       "      <td>0.046709</td>\n",
       "      <td>0.654966</td>\n",
       "      <td>2.720169</td>\n",
       "    </tr>\n",
       "    <tr>\n",
       "      <th>x10</th>\n",
       "      <td>680.0</td>\n",
       "      <td>0.496178</td>\n",
       "      <td>0.287545</td>\n",
       "      <td>0.005230</td>\n",
       "      <td>0.248967</td>\n",
       "      <td>0.497494</td>\n",
       "      <td>0.731890</td>\n",
       "      <td>0.998348</td>\n",
       "    </tr>\n",
       "    <tr>\n",
       "      <th>deseada</th>\n",
       "      <td>772.0</td>\n",
       "      <td>35.895710</td>\n",
       "      <td>16.786940</td>\n",
       "      <td>2.331808</td>\n",
       "      <td>23.742796</td>\n",
       "      <td>34.222141</td>\n",
       "      <td>45.865322</td>\n",
       "      <td>82.599225</td>\n",
       "    </tr>\n",
       "  </tbody>\n",
       "</table>\n",
       "</div>"
      ],
      "text/plain": [
       "         count          mean           std           min           25%  \\\n",
       "x1       706.0  92761.097733  68338.519818  10404.000000  37900.302400   \n",
       "x2       685.0     72.037898     86.135309      0.000000      0.000000   \n",
       "x3       703.0      0.882659      1.026148      0.000000      0.000000   \n",
       "x4       690.0    181.944594     21.474526    121.750000    164.925000   \n",
       "x5       698.0      6.168636      6.033556      0.000000      0.000000   \n",
       "x6       704.0    971.787997     79.482087    801.000000    932.000000   \n",
       "x7       699.0    772.917167     81.459988    594.000000    725.950000   \n",
       "x8       687.0     45.914119     62.163402      1.000000     14.000000   \n",
       "x9       694.0      0.018116      0.979987     -3.241267     -0.651777   \n",
       "x10      680.0      0.496178      0.287545      0.005230      0.248967   \n",
       "deseada  772.0     35.895710     16.786940      2.331808     23.742796   \n",
       "\n",
       "                  50%            75%            max  \n",
       "x1       76729.000000  131478.760000  291600.000000  \n",
       "x2          20.000000     141.300000     359.400000  \n",
       "x3           0.000000       2.073865       2.292256  \n",
       "x4         185.700000     192.000000     247.000000  \n",
       "x5           6.000000      10.100000      32.200000  \n",
       "x6         967.040000    1034.250000    1145.000000  \n",
       "x7         779.700000     824.000000     992.600000  \n",
       "x8          28.000000      56.000000     365.000000  \n",
       "x9           0.046709       0.654966       2.720169  \n",
       "x10          0.497494       0.731890       0.998348  \n",
       "deseada     34.222141      45.865322      82.599225  "
      ]
     },
     "metadata": {},
     "output_type": "display_data"
    }
   ],
   "source": [
    "## Obtenemos algunos estadísticos para ver la estructura de los datos para situar los datos faltantes\n",
    "print(f\"Recordar el número de observaciones: {df.shape[0]}\")\n",
    "\n",
    "display(df.describe().T)"
   ]
  },
  {
   "cell_type": "markdown",
   "id": "4631a081",
   "metadata": {},
   "source": [
    "\n",
    "Si comparamos el total de registros de la columna target \"deseada\" y lo comparamos con las variables predictoras."
   ]
  }
 ],
 "metadata": {
  "kernelspec": {
   "display_name": "venv (3.10.0)",
   "language": "python",
   "name": "python3"
  },
  "language_info": {
   "codemirror_mode": {
    "name": "ipython",
    "version": 3
   },
   "file_extension": ".py",
   "mimetype": "text/x-python",
   "name": "python",
   "nbconvert_exporter": "python",
   "pygments_lexer": "ipython3",
   "version": "3.10.0"
  }
 },
 "nbformat": 4,
 "nbformat_minor": 5
}
